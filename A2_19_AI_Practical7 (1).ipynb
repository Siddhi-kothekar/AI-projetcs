{
  "cells": [
    {
      "cell_type": "markdown",
      "id": "vM5SuzzFE_TM",
      "metadata": {
        "id": "vM5SuzzFE_TM"
      },
      "source": [
        "Name:- Siddhi   Kothekar\n",
        "\n",
        "\n",
        "\n",
        "Roll no:-19\n",
        "\n",
        "\n",
        "\n",
        "Practical:- 7"
      ]
    },
    {
      "cell_type": "code",
      "execution_count": null,
      "id": "6c3830bd-6e69-4d26-ba2e-9c50cc71f8e3",
      "metadata": {
        "colab": {
          "base_uri": "https://localhost:8080/"
        },
        "id": "6c3830bd-6e69-4d26-ba2e-9c50cc71f8e3",
        "outputId": "dadc8bc9-934c-4e91-b889-98d35ecdb972"
      },
      "outputs": [
        {
          "name": "stdout",
          "output_type": "stream",
          "text": [
            "    Color    Type    Origin Stolen\n",
            "0     red  sports  domestic    yes\n",
            "1     red  sports  domestic     no\n",
            "2     red  sports  domestic    yes\n",
            "3  yellow  sports  domestic     no\n",
            "4  yellow  sports  imported    yes\n",
            "5  yellow     suv  imported     no\n",
            "6  yellow     suv  imported    yes\n",
            "7  yellow     suv  domestic     no\n",
            "8     red     suv  imported     no\n",
            "9     red  sports  imported    yes\n"
          ]
        }
      ],
      "source": [
        "import numpy as np\n",
        "import pandas as pd\n",
        "color_values=['red','red','red','yellow','yellow','yellow','yellow','yellow','red','red']\n",
        "type_values=['sports','sports','sports','sports','sports','suv','suv','suv','suv','sports']\n",
        "origin_values=['domestic','domestic','domestic','domestic','imported','imported','imported','domestic','imported','imported']\n",
        "stolen_values=['yes','no','yes','no','yes','no','yes','no','no','yes']\n",
        "data = {'Color': color_values,\n",
        "        'Type': type_values,\n",
        "        'Origin': origin_values,\n",
        "        'Stolen': stolen_values}\n",
        "df = pd.DataFrame(data)\n",
        "\n",
        "# Display the DataFrame\n",
        "print(df)"
      ]
    },
    {
      "cell_type": "code",
      "execution_count": null,
      "id": "7d5e68b0-bdc1-4e0e-9a2c-88bd3eb961dc",
      "metadata": {
        "id": "7d5e68b0-bdc1-4e0e-9a2c-88bd3eb961dc"
      },
      "outputs": [],
      "source": [
        "car={'Color':'red','Type':'suv','Origin':'domestic'}"
      ]
    },
    {
      "cell_type": "code",
      "execution_count": null,
      "id": "f1592036-ea81-4da3-96f0-fca8a04f7b38",
      "metadata": {
        "id": "f1592036-ea81-4da3-96f0-fca8a04f7b38"
      },
      "outputs": [],
      "source": [
        "p_yes=len(df[df['Stolen']=='yes'])/len(df)"
      ]
    },
    {
      "cell_type": "code",
      "execution_count": null,
      "id": "1d38a536-bf53-458e-93f6-7fe737837678",
      "metadata": {
        "id": "1d38a536-bf53-458e-93f6-7fe737837678"
      },
      "outputs": [],
      "source": [
        "p_color=len(df[df['Color']==car['Color']])/len(df)"
      ]
    },
    {
      "cell_type": "code",
      "execution_count": null,
      "id": "46fef891-61fc-4920-8ccb-89ec033978d8",
      "metadata": {
        "id": "46fef891-61fc-4920-8ccb-89ec033978d8"
      },
      "outputs": [],
      "source": [
        "p_type=len(df[df['Type']==car['Type']])/len(df)"
      ]
    },
    {
      "cell_type": "code",
      "execution_count": null,
      "id": "d622605a-bb37-4060-a40b-df8197484e9a",
      "metadata": {
        "id": "d622605a-bb37-4060-a40b-df8197484e9a"
      },
      "outputs": [],
      "source": [
        "p_origin=len(df[df['Origin']==car['Origin']])/len(df)"
      ]
    },
    {
      "cell_type": "code",
      "execution_count": null,
      "id": "a0958f7a-127b-4120-ae3a-844fa41a6951",
      "metadata": {
        "id": "a0958f7a-127b-4120-ae3a-844fa41a6951"
      },
      "outputs": [],
      "source": [
        "p_yes_given_color=len(df[(df['Color']==car['Color'])&(df['Stolen']=='yes')])/len(df[df['Color']==car['Color']])"
      ]
    },
    {
      "cell_type": "code",
      "execution_count": null,
      "id": "359ac146-0442-4021-a6af-26d79b475b0e",
      "metadata": {
        "id": "359ac146-0442-4021-a6af-26d79b475b0e"
      },
      "outputs": [],
      "source": [
        "p_yes_given_type=len(df[(df['Type']==car['Type'])&(df['Stolen']=='yes')])/len(df[df['Type']==car['Type']])"
      ]
    },
    {
      "cell_type": "code",
      "execution_count": null,
      "id": "a19c8e4b-19cc-47ac-8d91-fb0b142b67d7",
      "metadata": {
        "id": "a19c8e4b-19cc-47ac-8d91-fb0b142b67d7"
      },
      "outputs": [],
      "source": [
        "p_yes_given_origin=len(df[(df['Origin']==car['Origin'])&(df['Stolen']=='yes')])/len(df[df['Origin']==car['Origin']])"
      ]
    },
    {
      "cell_type": "code",
      "execution_count": null,
      "id": "2a60977d-abee-4fe6-82bb-cc717c71ec5b",
      "metadata": {
        "colab": {
          "base_uri": "https://localhost:8080/"
        },
        "id": "2a60977d-abee-4fe6-82bb-cc717c71ec5b",
        "outputId": "10af5f99-d531-4b4e-d3bf-35b423f59ac3"
      },
      "outputs": [
        {
          "name": "stdout",
          "output_type": "stream",
          "text": [
            "0.6\n"
          ]
        }
      ],
      "source": [
        "p_color_given_yes=(p_yes_given_color*p_color)/p_yes\n",
        "print(p_color_given_yes)"
      ]
    },
    {
      "cell_type": "code",
      "execution_count": null,
      "id": "36ba20e3-f8c2-4163-944e-46a27c723d39",
      "metadata": {
        "colab": {
          "base_uri": "https://localhost:8080/"
        },
        "id": "36ba20e3-f8c2-4163-944e-46a27c723d39",
        "outputId": "a1099907-46be-46c1-8066-97cebe0133fe"
      },
      "outputs": [
        {
          "name": "stdout",
          "output_type": "stream",
          "text": [
            "0.2\n"
          ]
        }
      ],
      "source": [
        "p_type_given_yes=(p_yes_given_type*p_type)/p_yes\n",
        "print(p_type_given_yes)"
      ]
    },
    {
      "cell_type": "code",
      "execution_count": null,
      "id": "b86e62e3-a5b1-4e3c-9369-28acbbb24e38",
      "metadata": {
        "colab": {
          "base_uri": "https://localhost:8080/"
        },
        "id": "b86e62e3-a5b1-4e3c-9369-28acbbb24e38",
        "outputId": "fe8a0c52-4759-4358-aa15-5c56dd0807ba"
      },
      "outputs": [
        {
          "name": "stdout",
          "output_type": "stream",
          "text": [
            "0.4\n"
          ]
        }
      ],
      "source": [
        "p_origin_given_yes=(p_yes_given_origin*p_origin)/p_yes\n",
        "print(p_origin_given_yes)\n"
      ]
    },
    {
      "cell_type": "code",
      "execution_count": null,
      "id": "z-ZyfukSCN5Y",
      "metadata": {
        "colab": {
          "base_uri": "https://localhost:8080/"
        },
        "id": "z-ZyfukSCN5Y",
        "outputId": "5e5c69c7-7635-4e13-bc29-fe56e5fb57a4"
      },
      "outputs": [
        {
          "name": "stdout",
          "output_type": "stream",
          "text": [
            "0.048\n"
          ]
        }
      ],
      "source": [
        "p_yes_stolen=p_color_given_yes*p_type_given_yes*p_origin_given_yes\n",
        "print(p_yes_stolen)"
      ]
    },
    {
      "cell_type": "code",
      "execution_count": null,
      "id": "XMBN_WpuCjqB",
      "metadata": {
        "id": "XMBN_WpuCjqB"
      },
      "outputs": [],
      "source": [
        "p_no=len(df[df['Stolen']=='no'])/len(df)"
      ]
    },
    {
      "cell_type": "code",
      "execution_count": null,
      "id": "C9ujuKmxCyRi",
      "metadata": {
        "id": "C9ujuKmxCyRi"
      },
      "outputs": [],
      "source": [
        "p_no_given_color=len(df[(df['Color']==car['Color'])&(df['Stolen']=='no')])/len(df[df['Color']==car['Color']])"
      ]
    },
    {
      "cell_type": "code",
      "execution_count": null,
      "id": "LY-4fr10DUGz",
      "metadata": {
        "id": "LY-4fr10DUGz"
      },
      "outputs": [],
      "source": [
        "p_no_given_type=len(df[(df['Type']==car['Type'])&(df['Stolen']=='no')])/len(df[df['Type']==car['Type']])"
      ]
    },
    {
      "cell_type": "code",
      "execution_count": null,
      "id": "pkh7Z0e6DdCH",
      "metadata": {
        "id": "pkh7Z0e6DdCH"
      },
      "outputs": [],
      "source": [
        "p_no_given_origin=len(df[(df['Origin']==car['Origin'])&(df['Stolen']=='no')])/len(df[df['Origin']==car['Origin']])"
      ]
    },
    {
      "cell_type": "code",
      "execution_count": null,
      "id": "0Wkc2GehDkrc",
      "metadata": {
        "colab": {
          "base_uri": "https://localhost:8080/"
        },
        "id": "0Wkc2GehDkrc",
        "outputId": "6c3a4e87-b598-430d-fafd-83387860d7e3"
      },
      "outputs": [
        {
          "name": "stdout",
          "output_type": "stream",
          "text": [
            "0.4\n"
          ]
        }
      ],
      "source": [
        "p_color_given_no=(p_no_given_color*p_color)/p_no\n",
        "print(p_color_given_no)"
      ]
    },
    {
      "cell_type": "code",
      "execution_count": null,
      "id": "v0sybbqbDuYP",
      "metadata": {
        "colab": {
          "base_uri": "https://localhost:8080/"
        },
        "id": "v0sybbqbDuYP",
        "outputId": "c2b4d58d-f49f-4ccc-9f9f-31351091c488"
      },
      "outputs": [
        {
          "name": "stdout",
          "output_type": "stream",
          "text": [
            "0.6000000000000001\n"
          ]
        }
      ],
      "source": [
        "p_type_given_no=(p_no_given_type*p_type)/p_no\n",
        "print(p_type_given_no)"
      ]
    },
    {
      "cell_type": "code",
      "execution_count": null,
      "id": "dpQPI8RaD5B3",
      "metadata": {
        "colab": {
          "base_uri": "https://localhost:8080/"
        },
        "id": "dpQPI8RaD5B3",
        "outputId": "16651e19-3af7-4981-bd17-337fc1f7a88e"
      },
      "outputs": [
        {
          "name": "stdout",
          "output_type": "stream",
          "text": [
            "0.6\n"
          ]
        }
      ],
      "source": [
        "p_origin_given_no=(p_no_given_origin*p_origin)/p_no\n",
        "print(p_origin_given_no)"
      ]
    },
    {
      "cell_type": "code",
      "execution_count": null,
      "id": "XccrZSzcEIJj",
      "metadata": {
        "colab": {
          "base_uri": "https://localhost:8080/"
        },
        "id": "XccrZSzcEIJj",
        "outputId": "9cd37e45-0aac-4cb9-df9c-1054cc7ff6b4"
      },
      "outputs": [
        {
          "name": "stdout",
          "output_type": "stream",
          "text": [
            "0.14400000000000002\n"
          ]
        }
      ],
      "source": [
        "p_no_stolen=p_color_given_no*p_type_given_no*p_origin_given_no\n",
        "print(p_no_stolen)"
      ]
    },
    {
      "cell_type": "code",
      "execution_count": null,
      "id": "otqXZ4sQEaAQ",
      "metadata": {
        "colab": {
          "base_uri": "https://localhost:8080/"
        },
        "id": "otqXZ4sQEaAQ",
        "outputId": "b1110126-6b92-4e45-ad48-577a6038bd65"
      },
      "outputs": [
        {
          "name": "stdout",
          "output_type": "stream",
          "text": [
            "Not Stolen\n",
            "0.14400000000000002\n"
          ]
        }
      ],
      "source": [
        "if(p_yes_stolen>p_no_stolen):\n",
        "  print(\"Stolen\")\n",
        "  print(p_yes_stolen)\n",
        "else:\n",
        "  print(\"Not Stolen\")\n",
        "  print(p_no_stolen)"
      ]
    },
    {
      "cell_type": "code",
      "execution_count": null,
      "id": "SxeRiD-pE5fp",
      "metadata": {
        "id": "SxeRiD-pE5fp"
      },
      "outputs": [],
      "source": []
    }
  ],
  "metadata": {
    "colab": {
      "provenance": []
    },
    "kernelspec": {
      "display_name": "Python 3 (ipykernel)",
      "language": "python",
      "name": "python3"
    },
    "language_info": {
      "codemirror_mode": {
        "name": "ipython",
        "version": 3
      },
      "file_extension": ".py",
      "mimetype": "text/x-python",
      "name": "python",
      "nbconvert_exporter": "python",
      "pygments_lexer": "ipython3",
      "version": "3.11.7"
    }
  },
  "nbformat": 4,
  "nbformat_minor": 5
}